{
 "cells": [
  {
   "cell_type": "code",
   "execution_count": 10,
   "metadata": {},
   "outputs": [
    {
     "data": {
      "text/plain": [
       "[1, 2, 3, 4]"
      ]
     },
     "execution_count": 10,
     "metadata": {},
     "output_type": "execute_result"
    }
   ],
   "source": [
    "from pyspark import SparkConf, SparkContext\n",
    "\n",
    "#On ajoute cette petite condition car Spark ne permet pas de créer plusieurs instances de SparkContext dans le même environnement. \n",
    "#Il faut donc s'assurer d'arreter un SparkContext existant avant d'en créer un nouveau, si il existe \n",
    "\n",
    "if SparkContext._active_spark_context:\n",
    "    SparkContext._active_spark_context.stop()\n",
    "\n",
    "conf = SparkConf().setAppName(\"tp\").setMaster(\"local[*]\")\n",
    "sc = SparkContext(conf=conf)\n",
    "\n",
    "\n",
    "#On initialise la liste en python normal (sans spark)\n",
    "numbers = [1,2,3,4]\n",
    "\n",
    "#On créer la RDD\n",
    "\n",
    "rdd = sc.parallelize(numbers)\n",
    "\n",
    "#On affiche le RDD\n",
    "\n",
    "rdd.collect()"
   ]
  },
  {
   "cell_type": "code",
   "execution_count": 11,
   "metadata": {},
   "outputs": [
    {
     "data": {
      "text/plain": [
       "8"
      ]
     },
     "execution_count": 11,
     "metadata": {},
     "output_type": "execute_result"
    }
   ],
   "source": [
    "#On check combien on a de partitions \n",
    "rdd.getNumPartitions()"
   ]
  },
  {
   "cell_type": "code",
   "execution_count": 12,
   "metadata": {},
   "outputs": [],
   "source": [
    "#On refait exactement le même chose \n",
    "\n",
    "city_list = [(\"Paris\", 75), (\"Marseille\", 13), (\"Nice\", 6)]\n",
    "\n",
    "city_rdd = sc.parallelize(city_list)\n"
   ]
  },
  {
   "cell_type": "code",
   "execution_count": 14,
   "metadata": {},
   "outputs": [
    {
     "data": {
      "text/plain": [
       "[('Paris', 75), ('Marseille', 13), ('Nice', 6)]"
      ]
     },
     "execution_count": 14,
     "metadata": {},
     "output_type": "execute_result"
    }
   ],
   "source": [
    "city_rdd.collect()\n"
   ]
  },
  {
   "cell_type": "code",
   "execution_count": 15,
   "metadata": {},
   "outputs": [
    {
     "data": {
      "text/plain": [
       "8"
      ]
     },
     "execution_count": 15,
     "metadata": {},
     "output_type": "execute_result"
    }
   ],
   "source": [
    "city_rdd.getNumPartitions()"
   ]
  },
  {
   "cell_type": "code",
   "execution_count": 16,
   "metadata": {},
   "outputs": [
    {
     "name": "stderr",
     "output_type": "stream",
     "text": [
      "[Stage 3:>                                                          (0 + 8) / 8]\r"
     ]
    },
    {
     "name": "stdout",
     "output_type": "stream",
     "text": [
      "[('PARIS', 75), ('MARSEILLE', 13), ('NICE', 6)]\n"
     ]
    },
    {
     "name": "stderr",
     "output_type": "stream",
     "text": [
      "                                                                                \r"
     ]
    }
   ],
   "source": [
    "rdd_upper = city_rdd.map(lambda x: (x[0].upper(), x[1]))\n",
    "print(rdd_upper.collect())"
   ]
  },
  {
   "cell_type": "code",
   "execution_count": 23,
   "metadata": {},
   "outputs": [
    {
     "data": {
      "text/plain": [
       "[(<function str.upper()>, 75),\n",
       " (<function str.upper()>, 13),\n",
       " (<function str.upper()>, 6)]"
      ]
     },
     "execution_count": 23,
     "metadata": {},
     "output_type": "execute_result"
    }
   ],
   "source": [
    "#Si on enlève les () de la fonction upper on insère dans la liste \"<function str.upper()>\" plutôt que de mettre en MAJ les villes\n",
    "\n",
    "rdd_upper = city_rdd.map(lambda x: (x[0].upper, x[1]))\n",
    "rdd_upper.collect()\n"
   ]
  },
  {
   "cell_type": "code",
   "execution_count": 24,
   "metadata": {},
   "outputs": [],
   "source": [
    "#Si on change la position x[1] en x[2] on a pas d'erreur sur le map \n",
    "#On a une erreur sur le collect car la position n'existe pas. C'est du lazy evaluation\n",
    "\n",
    "rdd_upper = city_rdd.map(lambda x: (x[0].upper(), x[2]))\n",
    "\n",
    "#rdd_upper.collect()\n"
   ]
  }
 ],
 "metadata": {
  "kernelspec": {
   "display_name": "spark",
   "language": "python",
   "name": "python3"
  },
  "language_info": {
   "codemirror_mode": {
    "name": "ipython",
    "version": 3
   },
   "file_extension": ".py",
   "mimetype": "text/x-python",
   "name": "python",
   "nbconvert_exporter": "python",
   "pygments_lexer": "ipython3",
   "version": "3.10.16"
  }
 },
 "nbformat": 4,
 "nbformat_minor": 2
}
